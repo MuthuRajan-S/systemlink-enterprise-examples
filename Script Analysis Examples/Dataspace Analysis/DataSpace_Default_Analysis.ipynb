{
 "cells": [
  {
   "cell_type": "markdown",
   "metadata": {},
   "source": [
    "# DataSpace Analysis Example\n",
    "\n",
    "This notebook will analyze the parametric data in a dataspace to calculate statistics."
   ]
  },
  {
   "cell_type": "markdown",
   "metadata": {},
   "source": [
    "### Imports\n",
    "\n",
    "Import Python modules for executing the notebook. The ni_data_space_analyzer is used for performing the analysis. Pandas is used for building and handling dataframe. Scrapbook is used for running notebooks and recording data for the SystemLink Notebook Execution Service."
   ]
  },
  {
   "cell_type": "code",
   "execution_count": 1,
   "metadata": {},
   "outputs": [],
   "source": [
    "import pandas as pd\n",
    "import scrapbook as sb\n",
    "\n",
    "from ni_data_space_analyzer import DataSpaceAnalyzer\n",
    "from ni_data_space_analyzer.exception import DataSpaceAnalyzerError"
   ]
  },
  {
   "cell_type": "markdown",
   "metadata": {},
   "source": [
    "### Parameters\n",
    "\n",
    "#### Channels\n",
    "\n",
    "Channel will contain the `artifact_id` in the following format\n",
    "```json\n",
    "{\n",
    "  \"artifact_id\": \"<your artifact id>\"\n",
    "}\n",
    "````\n",
    "\n",
    "Example:\n",
    "```json\n",
    "{\n",
    "    \"artifact_id\": \"ec25561d-6509-49e5-9a78-30e9752733fe\"\n",
    "}\n",
    "````\n",
    "\n",
    "#### Analysis Options\n",
    "\n",
    "The `analysis_options` is a list of analyses that the Notebook should perform.\n",
    "\n",
    "### WorkSpace Id\n",
    "\n",
    "The `workspace_id` is the ID of the workspace where the artifact data is located.\n",
    "\n",
    "### Metadata\n",
    "\n",
    "These are the parameters that the notebook expects to be passed in by SystemLink. For notebooks designed to be perform analysis inside a dataspace, must tag the cell with 'parameters' and at minimum specify the following in the cell metadata using the JupyterLab Property Inspector (double gear icon):\n",
    "\n",
    "```json\n",
    "{\n",
    "  \"papermill\": {\n",
    "    \"parameters\": {\n",
    "      \"analysis_options\": [],\n",
    "      \"channels\": {\"artifact_id\": \"<artifact_id>\"},\n",
    "      \"workspace_id\": \"\"\n",
    "    }\n",
    "  },\n",
    "  \"systemlink\": {\n",
    "    \"interfaces\": [],\n",
    "    \"outputs\": [\n",
    "      {\n",
    "        \"display_name\": \"Min\",\n",
    "        \"id\": \"min\",\n",
    "        \"type\": \"scalar\"\n",
    "      },\n",
    "      {\n",
    "        \"display_name\": \"Max\",\n",
    "        \"id\": \"max\",\n",
    "        \"type\": \"scalar\"\n",
    "      },\n",
    "      {\n",
    "        \"display_name\": \"Mean\",\n",
    "        \"id\": \"mean\",\n",
    "        \"type\": \"scalar\"\n",
    "      },\n",
    "      {\n",
    "        \"display_name\": \"2 STD\",\n",
    "        \"id\": \"2std\",\n",
    "        \"type\": \"scalar\"\n",
    "      },\n",
    "      {\n",
    "        \"display_name\": \"-2 STD\",\n",
    "        \"id\": \"-2std\",\n",
    "        \"type\": \"scalar\"\n",
    "      },\n",
    "      {\n",
    "        \"display_name\": \"Moving Mean\",\n",
    "        \"id\": \"moving_mean\",\n",
    "        \"type\": \"vector\"\n",
    "      },\n",
    "      {\n",
    "        \"display_name\": \"CP\",\n",
    "        \"id\": \"cp\",\n",
    "        \"type\": \"vector\"\n",
    "      },\n",
    "      {\n",
    "        \"display_name\": \"CPK\",\n",
    "        \"id\": \"cpk\",\n",
    "        \"type\": \"vector\"\n",
    "      }\n",
    "    ],\n",
    "    \"parameters\": [\n",
    "      {\n",
    "        \"display_name\": \"Channels\",\n",
    "        \"id\": \"channels\",\n",
    "        \"type\": \"dict[string, string]\"\n",
    "      },\n",
    "      {\n",
    "        \"display_name\": \"Analysis Options\",\n",
    "        \"id\": \"analysis_options\",\n",
    "        \"type\": \"string[]\"\n",
    "      },\n",
    "      {\n",
    "        \"display_name\": \"Workspace ID\",\n",
    "        \"id\": \"workspace_id\",\n",
    "        \"type\": \"string\"\n",
    "      }\n",
    "    ],\n",
    "    \"version\": 2\n",
    "  },\n",
    "  \"tags\": [\"parameters\"]\n",
    "}\n",
    "````\n",
    "\n",
    "For more information on how parameterization works, review the [papermill documentation](https://papermill.readthedocs.io/en/latest/usage-parameterize.html#how-parameters-work).\n"
   ]
  },
  {
   "cell_type": "code",
   "execution_count": 2,
   "metadata": {
    "editable": true,
    "papermill": {
     "parameters": {
      "analysis_options": [],
      "channels": ""
     }
    },
    "slideshow": {
     "slide_type": ""
    },
    "systemlink": {
     "interfaces": [
      "ni-testmanagement"
     ],
     "outputs": [
      {
       "display_name": "Min",
       "id": "min",
       "type": "scalar"
      },
      {
       "display_name": "Max",
       "id": "max",
       "type": "scalar"
      },
      {
       "display_name": "Mean",
       "id": "mean",
       "type": "scalar"
      },
      {
       "display_name": "2 STD",
       "id": "2std",
       "type": "scalar"
      },
      {
       "display_name": "-2 STD",
       "id": "-2std",
       "type": "scalar"
      },
      {
       "display_name": "Moving Mean",
       "id": "moving_mean",
       "type": "vector"
      },
      {
       "display_name": "CP",
       "id": "cp",
       "type": "vector"
      },
      {
       "display_name": "CPK",
       "id": "cpk",
       "type": "vector"
      }
     ],
     "parameters": [
      {
       "display_name": "Channels",
       "id": "channels",
       "type": "string"
      },
      {
       "display_name": "Analysis Options",
       "id": "analysis_options",
       "type": "string[]"
      }
     ],
     "version": 2
    },
    "tags": [
     "parameters"
    ]
   },
   "outputs": [],
   "source": [
    "channels = {\"artifact_id\": \"<artifact_id>\"}\n",
    "analysis_options = []\n",
    "workspace_id = \"\""
   ]
  },
  {
   "cell_type": "markdown",
   "metadata": {},
   "source": [
    "### Supported Input analysis options and their output types"
   ]
  },
  {
   "cell_type": "markdown",
   "metadata": {},
   "source": [
    "1. Mean: The central value of the data set.\n",
    "2. 2 STD: Two standard deviations from the mean.\n",
    "3. -2 STD: Negative two standard deviations from the mean.\n",
    "4. Min: The minimum value in the data set.\n",
    "5. Max: The maximum value in the data set.\n",
    "6. Moving Mean: The central value of the most recent X data points.\n",
    "7. Cpk: The process capability index. Describes the ability of a process to provide output that will be within the required specifications consistently.\n",
    "8. Cp: The process capability. The process capability is a measure of the potential for a process to provide output that is within upper and lower specification limits."
   ]
  },
  {
   "cell_type": "code",
   "execution_count": 3,
   "metadata": {},
   "outputs": [],
   "source": [
    "supported_analysis = [\n",
    "    {\"id\": \"min\", \"type\": \"scalar\"},\n",
    "    {\"id\": \"max\", \"type\": \"scalar\"},\n",
    "    {\"id\": \"mean\", \"type\": \"scalar\"},\n",
    "    {\"id\": \"2std\", \"type\": \"scalar\"},\n",
    "    {\"id\": \"-2std\", \"type\": \"scalar\"},\n",
    "    {\"id\": \"moving_mean\", \"type\": \"vector\"},\n",
    "    {\"id\": \"cp\", \"type\": \"vector\"},\n",
    "    {\"id\": \"cpk\", \"type\": \"vector\"},\n",
    "]\n",
    "\n",
    "supported_analysis_options = list(map(lambda x: x[\"id\"], supported_analysis))"
   ]
  },
  {
   "cell_type": "markdown",
   "metadata": {},
   "source": [
    "### Utility Functions"
   ]
  },
  {
   "cell_type": "markdown",
   "metadata": {},
   "source": [
    "#### Validating Analysis options"
   ]
  },
  {
   "cell_type": "code",
   "execution_count": 4,
   "metadata": {},
   "outputs": [],
   "source": [
    "def validate_analysis_options(analysis_options) -> None:\n",
    "    analysis_options = list(map(str.strip, analysis_options))\n",
    "\n",
    "    invalid_options = list(set(analysis_options) - set(supported_analysis_options))\n",
    "\n",
    "    if invalid_options:\n",
    "        raise DataSpaceAnalyzerError(\n",
    "            \"The analysis failed because the following options are not supported: {0}.\".format(\n",
    "                \", \".join(invalid_options)\n",
    "            )\n",
    "        )"
   ]
  },
  {
   "cell_type": "markdown",
   "metadata": {},
   "source": [
    "#### Analyzing channel data"
   ]
  },
  {
   "cell_type": "code",
   "execution_count": 6,
   "metadata": {},
   "outputs": [],
   "source": [
    "def analyze_channel_data(channel_data: pd.DataFrame) -> pd.DataFrame:\n",
    "    data_space_analyzer = DataSpaceAnalyzer(dataframe=channel_data)\n",
    "\n",
    "    for option in analysis_options:\n",
    "        if option == \"min\":\n",
    "            data_space_analyzer.compute_min()\n",
    "        elif option == \"max\":\n",
    "            data_space_analyzer.compute_max()\n",
    "        elif option == \"mean\":\n",
    "            data_space_analyzer.compute_mean()\n",
    "        elif option == \"2std\":\n",
    "            data_space_analyzer.compute_2std()\n",
    "        elif option == \"-2std\":\n",
    "            data_space_analyzer.compute_negative_2std()\n",
    "        elif option == \"moving_mean\":\n",
    "            data_space_analyzer.compute_moving_mean()\n",
    "        elif option == \"cp\":\n",
    "            data_space_analyzer.compute_cp()\n",
    "        elif option == \"cpk\":\n",
    "            data_space_analyzer.compute_cpk()\n",
    "\n",
    "    return data_space_analyzer.generate_analysis_output(\n",
    "        analysis_options=analysis_options, supported_analysis=supported_analysis\n",
    "    )"
   ]
  },
  {
   "cell_type": "markdown",
   "metadata": {},
   "source": [
    "### Validating and Analyzing Channels"
   ]
  },
  {
   "cell_type": "code",
   "execution_count": 7,
   "metadata": {},
   "outputs": [],
   "source": [
    "analysis_options = list(map(str.lower, analysis_options))\n",
    "final_result = []\n",
    "\n",
    "try:\n",
    "    validate_analysis_options(analysis_options)\n",
    "    data_space_analyzer = DataSpaceAnalyzer(pd.DataFrame())\n",
    "    channels = data_space_analyzer.load_dataset(channels)\n",
    "\n",
    "    for channel in channels:\n",
    "        channel_name = channel[\"name\"]\n",
    "        channel_data = channel[\"data\"]\n",
    "\n",
    "        analysis_results = analyze_channel_data(channel_data)\n",
    "        \n",
    "        final_result.append({\"plot_label\": channel_name, \"data\": analysis_results})\n",
    "    \n",
    "    artifact_id = data_space_analyzer.save_analysis(workspace_id, final_result)\n",
    "\n",
    "except DataSpaceAnalyzerError as e:\n",
    "    raise Exception(e) from None"
   ]
  },
  {
   "cell_type": "markdown",
   "metadata": {},
   "source": [
    "### Store the result information so that SystemLink can access it\n",
    "\n",
    "SystemLink uses scrapbook to store result information from each notebook execution to display to the user in the Execution Details slide-out.\n",
    "   "
   ]
  },
  {
   "cell_type": "code",
   "execution_count": null,
   "metadata": {},
   "outputs": [],
   "source": [
    "sb.glue(\"result\", artifact_id)"
   ]
  },
  {
   "cell_type": "markdown",
   "metadata": {},
   "source": [
    "#### Sample Output format\n",
    "\n",
    "```json\n",
    "{\n",
    "    artifact_id: \"ec25561d-6509-49e5-9a78-30e9752733fe\"\n",
    "}\n",
    "```\n",
    "\n",
    "`artifact_id` - The ID of the artifact file where the output data is compressed and stored."
   ]
  },
  {
   "cell_type": "markdown",
   "metadata": {},
   "source": [
    "# Next Steps\n",
    "\n",
    "1. Publish this notebook to SystemLink by right-clicking it in the JupyterLab File Browser with the interface as DataSpace Analysis.\n",
    "1. Manually Analyze the parametric data inside the dataspace by clicking analyze button.\n",
    "   "
   ]
  }
 ],
 "metadata": {
  "kernelspec": {
   "display_name": "Python 3 (ipykernel)",
   "language": "python",
   "name": "python3"
  },
  "language_info": {
   "codemirror_mode": {
    "name": "ipython",
    "version": 3
   },
   "file_extension": ".py",
   "mimetype": "text/x-python",
   "name": "python",
   "nbconvert_exporter": "python",
   "pygments_lexer": "ipython3",
   "version": "3.9.11"
  }
 },
 "nbformat": 4,
 "nbformat_minor": 4
}
